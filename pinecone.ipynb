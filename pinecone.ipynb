{
 "cells": [
  {
   "cell_type": "code",
   "execution_count": 1,
   "metadata": {
    "vscode": {
     "languageId": "powershell"
    }
   },
   "outputs": [
    {
     "name": "stdout",
     "output_type": "stream",
     "text": [
      "Requirement already satisfied: pinecone-client in c:\\users\\guzma\\anaconda3\\lib\\site-packages (2.2.4)\n",
      "Requirement already satisfied: requests>=2.19.0 in c:\\users\\guzma\\anaconda3\\lib\\site-packages (from pinecone-client) (2.31.0)\n",
      "Requirement already satisfied: pyyaml>=5.4 in c:\\users\\guzma\\anaconda3\\lib\\site-packages (from pinecone-client) (6.0)\n",
      "Requirement already satisfied: loguru>=0.5.0 in c:\\users\\guzma\\anaconda3\\lib\\site-packages (from pinecone-client) (0.7.2)\n",
      "Requirement already satisfied: typing-extensions>=3.7.4 in c:\\users\\guzma\\anaconda3\\lib\\site-packages (from pinecone-client) (4.7.1)\n",
      "Requirement already satisfied: dnspython>=2.0.0 in c:\\users\\guzma\\anaconda3\\lib\\site-packages (from pinecone-client) (2.4.2)\n",
      "Requirement already satisfied: python-dateutil>=2.5.3 in c:\\users\\guzma\\anaconda3\\lib\\site-packages (from pinecone-client) (2.8.2)\n",
      "Requirement already satisfied: urllib3>=1.21.1 in c:\\users\\guzma\\anaconda3\\lib\\site-packages (from pinecone-client) (1.26.16)\n",
      "Requirement already satisfied: tqdm>=4.64.1 in c:\\users\\guzma\\anaconda3\\lib\\site-packages (from pinecone-client) (4.65.0)\n",
      "Requirement already satisfied: numpy>=1.22.0 in c:\\users\\guzma\\anaconda3\\lib\\site-packages (from pinecone-client) (1.24.3)\n",
      "Requirement already satisfied: colorama>=0.3.4 in c:\\users\\guzma\\anaconda3\\lib\\site-packages (from loguru>=0.5.0->pinecone-client) (0.4.6)\n",
      "Requirement already satisfied: win32-setctime>=1.0.0 in c:\\users\\guzma\\anaconda3\\lib\\site-packages (from loguru>=0.5.0->pinecone-client) (1.1.0)\n",
      "Requirement already satisfied: six>=1.5 in c:\\users\\guzma\\anaconda3\\lib\\site-packages (from python-dateutil>=2.5.3->pinecone-client) (1.16.0)\n",
      "Requirement already satisfied: charset-normalizer<4,>=2 in c:\\users\\guzma\\anaconda3\\lib\\site-packages (from requests>=2.19.0->pinecone-client) (2.0.4)\n",
      "Requirement already satisfied: idna<4,>=2.5 in c:\\users\\guzma\\anaconda3\\lib\\site-packages (from requests>=2.19.0->pinecone-client) (3.4)\n",
      "Requirement already satisfied: certifi>=2017.4.17 in c:\\users\\guzma\\anaconda3\\lib\\site-packages (from requests>=2.19.0->pinecone-client) (2023.7.22)\n",
      "Note: you may need to restart the kernel to use updated packages.\n"
     ]
    }
   ],
   "source": [
    "pip install pinecone-client"
   ]
  },
  {
   "cell_type": "code",
   "execution_count": 2,
   "metadata": {
    "vscode": {
     "languageId": "powershell"
    }
   },
   "outputs": [
    {
     "name": "stdout",
     "output_type": "stream",
     "text": [
      "Requirement already satisfied: pinecone-datasets in c:\\users\\guzma\\anaconda3\\lib\\site-packages (0.6.2)\n",
      "Requirement already satisfied: fsspec<2024.0.0,>=2023.1.0 in c:\\users\\guzma\\anaconda3\\lib\\site-packages (from pinecone-datasets) (2023.10.0)\n",
      "Requirement already satisfied: gcsfs<2024.0.0,>=2023.1.0 in c:\\users\\guzma\\anaconda3\\lib\\site-packages (from pinecone-datasets) (2023.10.0)\n",
      "Requirement already satisfied: pandas<3.0.0,>=2.0.0 in c:\\users\\guzma\\anaconda3\\lib\\site-packages (from pinecone-datasets) (2.0.3)\n",
      "Requirement already satisfied: pinecone-client<3.0.0,>=2.2.2 in c:\\users\\guzma\\anaconda3\\lib\\site-packages (from pinecone-datasets) (2.2.4)\n",
      "Requirement already satisfied: pyarrow<12.0.0,>=11.0.0 in c:\\users\\guzma\\anaconda3\\lib\\site-packages (from pinecone-datasets) (11.0.0)\n",
      "Requirement already satisfied: pydantic<2.0.0,>=1.10.5 in c:\\users\\guzma\\anaconda3\\lib\\site-packages (from pinecone-datasets) (1.10.8)\n",
      "Requirement already satisfied: s3fs<2024.0.0,>=2023.1.0 in c:\\users\\guzma\\anaconda3\\lib\\site-packages (from pinecone-datasets) (2023.10.0)\n",
      "Requirement already satisfied: tqdm<5.0.0,>=4.65.0 in c:\\users\\guzma\\anaconda3\\lib\\site-packages (from pinecone-datasets) (4.65.0)\n",
      "Requirement already satisfied: aiohttp!=4.0.0a0,!=4.0.0a1 in c:\\users\\guzma\\anaconda3\\lib\\site-packages (from gcsfs<2024.0.0,>=2023.1.0->pinecone-datasets) (3.8.5)\n",
      "Requirement already satisfied: decorator>4.1.2 in c:\\users\\guzma\\anaconda3\\lib\\site-packages (from gcsfs<2024.0.0,>=2023.1.0->pinecone-datasets) (5.1.1)\n",
      "Requirement already satisfied: google-auth>=1.2 in c:\\users\\guzma\\anaconda3\\lib\\site-packages (from gcsfs<2024.0.0,>=2023.1.0->pinecone-datasets) (2.23.4)\n",
      "Requirement already satisfied: google-auth-oauthlib in c:\\users\\guzma\\anaconda3\\lib\\site-packages (from gcsfs<2024.0.0,>=2023.1.0->pinecone-datasets) (1.1.0)\n",
      "Requirement already satisfied: google-cloud-storage in c:\\users\\guzma\\anaconda3\\lib\\site-packages (from gcsfs<2024.0.0,>=2023.1.0->pinecone-datasets) (2.13.0)\n",
      "Requirement already satisfied: requests in c:\\users\\guzma\\anaconda3\\lib\\site-packages (from gcsfs<2024.0.0,>=2023.1.0->pinecone-datasets) (2.31.0)\n",
      "Requirement already satisfied: python-dateutil>=2.8.2 in c:\\users\\guzma\\anaconda3\\lib\\site-packages (from pandas<3.0.0,>=2.0.0->pinecone-datasets) (2.8.2)\n",
      "Requirement already satisfied: pytz>=2020.1 in c:\\users\\guzma\\anaconda3\\lib\\site-packages (from pandas<3.0.0,>=2.0.0->pinecone-datasets) (2023.3.post1)\n",
      "Requirement already satisfied: tzdata>=2022.1 in c:\\users\\guzma\\anaconda3\\lib\\site-packages (from pandas<3.0.0,>=2.0.0->pinecone-datasets) (2023.3)\n",
      "Requirement already satisfied: numpy>=1.21.0 in c:\\users\\guzma\\anaconda3\\lib\\site-packages (from pandas<3.0.0,>=2.0.0->pinecone-datasets) (1.24.3)\n",
      "Requirement already satisfied: pyyaml>=5.4 in c:\\users\\guzma\\anaconda3\\lib\\site-packages (from pinecone-client<3.0.0,>=2.2.2->pinecone-datasets) (6.0)\n",
      "Requirement already satisfied: loguru>=0.5.0 in c:\\users\\guzma\\anaconda3\\lib\\site-packages (from pinecone-client<3.0.0,>=2.2.2->pinecone-datasets) (0.7.2)\n",
      "Requirement already satisfied: typing-extensions>=3.7.4 in c:\\users\\guzma\\anaconda3\\lib\\site-packages (from pinecone-client<3.0.0,>=2.2.2->pinecone-datasets) (4.7.1)\n",
      "Requirement already satisfied: dnspython>=2.0.0 in c:\\users\\guzma\\anaconda3\\lib\\site-packages (from pinecone-client<3.0.0,>=2.2.2->pinecone-datasets) (2.4.2)\n",
      "Requirement already satisfied: urllib3>=1.21.1 in c:\\users\\guzma\\anaconda3\\lib\\site-packages (from pinecone-client<3.0.0,>=2.2.2->pinecone-datasets) (1.26.16)\n",
      "Requirement already satisfied: aiobotocore~=2.7.0 in c:\\users\\guzma\\anaconda3\\lib\\site-packages (from s3fs<2024.0.0,>=2023.1.0->pinecone-datasets) (2.7.0)\n",
      "Requirement already satisfied: colorama in c:\\users\\guzma\\anaconda3\\lib\\site-packages (from tqdm<5.0.0,>=4.65.0->pinecone-datasets) (0.4.6)\n",
      "Requirement already satisfied: botocore<1.31.65,>=1.31.16 in c:\\users\\guzma\\anaconda3\\lib\\site-packages (from aiobotocore~=2.7.0->s3fs<2024.0.0,>=2023.1.0->pinecone-datasets) (1.31.64)\n",
      "Requirement already satisfied: wrapt<2.0.0,>=1.10.10 in c:\\users\\guzma\\anaconda3\\lib\\site-packages (from aiobotocore~=2.7.0->s3fs<2024.0.0,>=2023.1.0->pinecone-datasets) (1.14.1)\n",
      "Requirement already satisfied: aioitertools<1.0.0,>=0.5.1 in c:\\users\\guzma\\anaconda3\\lib\\site-packages (from aiobotocore~=2.7.0->s3fs<2024.0.0,>=2023.1.0->pinecone-datasets) (0.7.1)\n",
      "Requirement already satisfied: attrs>=17.3.0 in c:\\users\\guzma\\anaconda3\\lib\\site-packages (from aiohttp!=4.0.0a0,!=4.0.0a1->gcsfs<2024.0.0,>=2023.1.0->pinecone-datasets) (22.1.0)\n",
      "Requirement already satisfied: charset-normalizer<4.0,>=2.0 in c:\\users\\guzma\\anaconda3\\lib\\site-packages (from aiohttp!=4.0.0a0,!=4.0.0a1->gcsfs<2024.0.0,>=2023.1.0->pinecone-datasets) (2.0.4)\n",
      "Requirement already satisfied: multidict<7.0,>=4.5 in c:\\users\\guzma\\anaconda3\\lib\\site-packages (from aiohttp!=4.0.0a0,!=4.0.0a1->gcsfs<2024.0.0,>=2023.1.0->pinecone-datasets) (6.0.2)\n",
      "Requirement already satisfied: async-timeout<5.0,>=4.0.0a3 in c:\\users\\guzma\\anaconda3\\lib\\site-packages (from aiohttp!=4.0.0a0,!=4.0.0a1->gcsfs<2024.0.0,>=2023.1.0->pinecone-datasets) (4.0.2)\n",
      "Requirement already satisfied: yarl<2.0,>=1.0 in c:\\users\\guzma\\anaconda3\\lib\\site-packages (from aiohttp!=4.0.0a0,!=4.0.0a1->gcsfs<2024.0.0,>=2023.1.0->pinecone-datasets) (1.8.1)\n",
      "Requirement already satisfied: frozenlist>=1.1.1 in c:\\users\\guzma\\anaconda3\\lib\\site-packages (from aiohttp!=4.0.0a0,!=4.0.0a1->gcsfs<2024.0.0,>=2023.1.0->pinecone-datasets) (1.3.3)\n",
      "Requirement already satisfied: aiosignal>=1.1.2 in c:\\users\\guzma\\anaconda3\\lib\\site-packages (from aiohttp!=4.0.0a0,!=4.0.0a1->gcsfs<2024.0.0,>=2023.1.0->pinecone-datasets) (1.2.0)\n",
      "Requirement already satisfied: cachetools<6.0,>=2.0.0 in c:\\users\\guzma\\anaconda3\\lib\\site-packages (from google-auth>=1.2->gcsfs<2024.0.0,>=2023.1.0->pinecone-datasets) (5.3.2)\n",
      "Requirement already satisfied: pyasn1-modules>=0.2.1 in c:\\users\\guzma\\anaconda3\\lib\\site-packages (from google-auth>=1.2->gcsfs<2024.0.0,>=2023.1.0->pinecone-datasets) (0.2.8)\n",
      "Requirement already satisfied: rsa<5,>=3.1.4 in c:\\users\\guzma\\anaconda3\\lib\\site-packages (from google-auth>=1.2->gcsfs<2024.0.0,>=2023.1.0->pinecone-datasets) (4.9)\n",
      "Requirement already satisfied: win32-setctime>=1.0.0 in c:\\users\\guzma\\anaconda3\\lib\\site-packages (from loguru>=0.5.0->pinecone-client<3.0.0,>=2.2.2->pinecone-datasets) (1.1.0)\n",
      "Requirement already satisfied: six>=1.5 in c:\\users\\guzma\\anaconda3\\lib\\site-packages (from python-dateutil>=2.8.2->pandas<3.0.0,>=2.0.0->pinecone-datasets) (1.16.0)\n",
      "Requirement already satisfied: idna<4,>=2.5 in c:\\users\\guzma\\anaconda3\\lib\\site-packages (from requests->gcsfs<2024.0.0,>=2023.1.0->pinecone-datasets) (3.4)\n",
      "Requirement already satisfied: certifi>=2017.4.17 in c:\\users\\guzma\\anaconda3\\lib\\site-packages (from requests->gcsfs<2024.0.0,>=2023.1.0->pinecone-datasets) (2023.7.22)\n",
      "Requirement already satisfied: requests-oauthlib>=0.7.0 in c:\\users\\guzma\\anaconda3\\lib\\site-packages (from google-auth-oauthlib->gcsfs<2024.0.0,>=2023.1.0->pinecone-datasets) (1.3.1)\n",
      "Requirement already satisfied: google-api-core!=2.0.*,!=2.1.*,!=2.2.*,!=2.3.0,<3.0.0dev,>=1.31.5 in c:\\users\\guzma\\anaconda3\\lib\\site-packages (from google-cloud-storage->gcsfs<2024.0.0,>=2023.1.0->pinecone-datasets) (2.14.0)\n",
      "Requirement already satisfied: google-cloud-core<3.0dev,>=2.3.0 in c:\\users\\guzma\\anaconda3\\lib\\site-packages (from google-cloud-storage->gcsfs<2024.0.0,>=2023.1.0->pinecone-datasets) (2.3.3)\n",
      "Requirement already satisfied: google-resumable-media>=2.6.0 in c:\\users\\guzma\\anaconda3\\lib\\site-packages (from google-cloud-storage->gcsfs<2024.0.0,>=2023.1.0->pinecone-datasets) (2.6.0)\n",
      "Requirement already satisfied: google-crc32c<2.0dev,>=1.0 in c:\\users\\guzma\\anaconda3\\lib\\site-packages (from google-cloud-storage->gcsfs<2024.0.0,>=2023.1.0->pinecone-datasets) (1.5.0)\n",
      "Requirement already satisfied: jmespath<2.0.0,>=0.7.1 in c:\\users\\guzma\\anaconda3\\lib\\site-packages (from botocore<1.31.65,>=1.31.16->aiobotocore~=2.7.0->s3fs<2024.0.0,>=2023.1.0->pinecone-datasets) (0.10.0)\n",
      "Requirement already satisfied: googleapis-common-protos<2.0.dev0,>=1.56.2 in c:\\users\\guzma\\anaconda3\\lib\\site-packages (from google-api-core!=2.0.*,!=2.1.*,!=2.2.*,!=2.3.0,<3.0.0dev,>=1.31.5->google-cloud-storage->gcsfs<2024.0.0,>=2023.1.0->pinecone-datasets) (1.61.0)\n",
      "Requirement already satisfied: protobuf!=3.20.0,!=3.20.1,!=4.21.0,!=4.21.1,!=4.21.2,!=4.21.3,!=4.21.4,!=4.21.5,<5.0.0.dev0,>=3.19.5 in c:\\users\\guzma\\anaconda3\\lib\\site-packages (from google-api-core!=2.0.*,!=2.1.*,!=2.2.*,!=2.3.0,<3.0.0dev,>=1.31.5->google-cloud-storage->gcsfs<2024.0.0,>=2023.1.0->pinecone-datasets) (4.25.1)\n",
      "Requirement already satisfied: pyasn1<0.5.0,>=0.4.6 in c:\\users\\guzma\\anaconda3\\lib\\site-packages (from pyasn1-modules>=0.2.1->google-auth>=1.2->gcsfs<2024.0.0,>=2023.1.0->pinecone-datasets) (0.4.8)\n",
      "Requirement already satisfied: oauthlib>=3.0.0 in c:\\users\\guzma\\anaconda3\\lib\\site-packages (from requests-oauthlib>=0.7.0->google-auth-oauthlib->gcsfs<2024.0.0,>=2023.1.0->pinecone-datasets) (3.2.2)\n",
      "Note: you may need to restart the kernel to use updated packages.\n"
     ]
    }
   ],
   "source": [
    "pip install pinecone-datasets"
   ]
  },
  {
   "cell_type": "code",
   "execution_count": 3,
   "metadata": {
    "vscode": {
     "languageId": "powershell"
    }
   },
   "outputs": [
    {
     "name": "stdout",
     "output_type": "stream",
     "text": [
      "Requirement already satisfied: pypdf in c:\\users\\guzma\\anaconda3\\lib\\site-packages (3.17.1)\n",
      "Note: you may need to restart the kernel to use updated packages.\n"
     ]
    }
   ],
   "source": [
    "pip install pypdf"
   ]
  },
  {
   "cell_type": "code",
   "execution_count": 4,
   "metadata": {
    "vscode": {
     "languageId": "powershell"
    }
   },
   "outputs": [
    {
     "name": "stdout",
     "output_type": "stream",
     "text": [
      "Requirement already satisfied: tiktoken in c:\\users\\guzma\\anaconda3\\lib\\site-packages (0.5.1)\n",
      "Requirement already satisfied: regex>=2022.1.18 in c:\\users\\guzma\\anaconda3\\lib\\site-packages (from tiktoken) (2022.7.9)\n",
      "Requirement already satisfied: requests>=2.26.0 in c:\\users\\guzma\\anaconda3\\lib\\site-packages (from tiktoken) (2.31.0)\n",
      "Requirement already satisfied: charset-normalizer<4,>=2 in c:\\users\\guzma\\anaconda3\\lib\\site-packages (from requests>=2.26.0->tiktoken) (2.0.4)\n",
      "Requirement already satisfied: idna<4,>=2.5 in c:\\users\\guzma\\anaconda3\\lib\\site-packages (from requests>=2.26.0->tiktoken) (3.4)\n",
      "Requirement already satisfied: urllib3<3,>=1.21.1 in c:\\users\\guzma\\anaconda3\\lib\\site-packages (from requests>=2.26.0->tiktoken) (1.26.16)\n",
      "Requirement already satisfied: certifi>=2017.4.17 in c:\\users\\guzma\\anaconda3\\lib\\site-packages (from requests>=2.26.0->tiktoken) (2023.7.22)\n",
      "Note: you may need to restart the kernel to use updated packages.\n"
     ]
    }
   ],
   "source": [
    "pip install tiktoken"
   ]
  },
  {
   "cell_type": "code",
   "execution_count": 39,
   "metadata": {},
   "outputs": [
    {
     "data": {
      "text/plain": [
       "True"
      ]
     },
     "execution_count": 39,
     "metadata": {},
     "output_type": "execute_result"
    }
   ],
   "source": [
    "# PDF Loaders. If unstructured gives you a hard time, try PyPDFLoader\n",
    "from langchain.document_loaders import UnstructuredPDFLoader, OnlinePDFLoader, PyPDFLoader\n",
    "\n",
    "from langchain.text_splitter import RecursiveCharacterTextSplitter\n",
    "import os\n",
    "from dotenv import load_dotenv,dotenv_values\n",
    "\n",
    "os.environ.clear()\n",
    "load_dotenv()"
   ]
  },
  {
   "cell_type": "code",
   "execution_count": 40,
   "metadata": {},
   "outputs": [
    {
     "name": "stdout",
     "output_type": "stream",
     "text": [
      "You have 1 document(s) in your data\n",
      "There are 3112 characters in your document\n"
     ]
    }
   ],
   "source": [
    "#use your file \n",
    "loader = PyPDFLoader(\"Ruy_s_resume.pdf\")\n",
    "\n",
    "data = loader.load()\n",
    "\n",
    "print (f'You have {len(data)} document(s) in your data')\n",
    "print (f'There are {len(data[0].page_content)} characters in your document')"
   ]
  },
  {
   "cell_type": "code",
   "execution_count": 41,
   "metadata": {},
   "outputs": [
    {
     "name": "stdout",
     "output_type": "stream",
     "text": [
      "Now you have 4 documents\n"
     ]
    }
   ],
   "source": [
    "# Note: If you're using PyPDFLoader then we'll be splitting for the 2nd time.\n",
    "# This is optional, test out on your own data.\n",
    "\n",
    "text_splitter = RecursiveCharacterTextSplitter(chunk_size=1000, chunk_overlap=0)\n",
    "texts = text_splitter.split_documents(data)\n",
    "print (f'Now you have {len(texts)} documents')\n"
   ]
  },
  {
   "cell_type": "code",
   "execution_count": 42,
   "metadata": {},
   "outputs": [],
   "source": [
    "from langchain.vectorstores import Pinecone\n",
    "from langchain.embeddings.openai import OpenAIEmbeddings\n",
    "import pinecone"
   ]
  },
  {
   "cell_type": "code",
   "execution_count": 43,
   "metadata": {},
   "outputs": [],
   "source": [
    "embeddings = OpenAIEmbeddings(openai_api_key=os.getenv('OPENAI_API_KEY2'),chunk_size=1000)"
   ]
  },
  {
   "cell_type": "code",
   "execution_count": 44,
   "metadata": {},
   "outputs": [],
   "source": [
    "\n",
    "# initialize pinecone\n",
    "pinecone.init(\n",
    "    api_key= os.getenv('PINECONE_API_KEY'),  # find at app.pinecone.io\n",
    "    environment= os.getenv('PINECONE_ENVIRONMENT')   # next to api key in console\n",
    ")\n",
    "index = 'digital-twin'\n"
   ]
  },
  {
   "cell_type": "code",
   "execution_count": 45,
   "metadata": {},
   "outputs": [],
   "source": [
    "docsearch = Pinecone.from_texts([t.page_content for t in texts], embeddings, index_name=index)\n"
   ]
  }
 ],
 "metadata": {
  "kernelspec": {
   "display_name": "base",
   "language": "python",
   "name": "python3"
  },
  "language_info": {
   "codemirror_mode": {
    "name": "ipython",
    "version": 3
   },
   "file_extension": ".py",
   "mimetype": "text/x-python",
   "name": "python",
   "nbconvert_exporter": "python",
   "pygments_lexer": "ipython3",
   "version": "3.11.5"
  }
 },
 "nbformat": 4,
 "nbformat_minor": 2
}
