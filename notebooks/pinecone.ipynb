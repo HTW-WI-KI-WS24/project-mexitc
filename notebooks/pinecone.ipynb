{
 "cells": [
  {
   "cell_type": "markdown",
   "metadata": {},
   "source": [
    "# Pincecone first implementation"
   ]
  },
  {
   "cell_type": "markdown",
   "metadata": {},
   "source": [
    "### Install libraries"
   ]
  },
  {
   "cell_type": "code",
   "execution_count": 1,
   "metadata": {
    "vscode": {
     "languageId": "powershell"
    }
   },
   "outputs": [
    {
     "name": "stdout",
     "output_type": "stream",
     "text": [
      "Requirement already satisfied: pinecone-client in c:\\users\\karla\\appdata\\local\\programs\\python\\python310\\lib\\site-packages (2.2.4)\n",
      "Requirement already satisfied: typing-extensions>=3.7.4 in c:\\users\\karla\\appdata\\local\\programs\\python\\python310\\lib\\site-packages (from pinecone-client) (4.8.0)\n",
      "Requirement already satisfied: tqdm>=4.64.1 in c:\\users\\karla\\appdata\\local\\programs\\python\\python310\\lib\\site-packages (from pinecone-client) (4.66.1)\n",
      "Requirement already satisfied: pyyaml>=5.4 in c:\\users\\karla\\appdata\\local\\programs\\python\\python310\\lib\\site-packages (from pinecone-client) (6.0.1)\n",
      "Requirement already satisfied: python-dateutil>=2.5.3 in c:\\users\\karla\\appdata\\roaming\\python\\python310\\site-packages (from pinecone-client) (2.8.2)\n",
      "Requirement already satisfied: loguru>=0.5.0 in c:\\users\\karla\\appdata\\local\\programs\\python\\python310\\lib\\site-packages (from pinecone-client) (0.7.2)\n",
      "Requirement already satisfied: requests>=2.19.0 in c:\\users\\karla\\appdata\\local\\programs\\python\\python310\\lib\\site-packages (from pinecone-client) (2.31.0)\n",
      "Requirement already satisfied: dnspython>=2.0.0 in c:\\users\\karla\\appdata\\local\\programs\\python\\python310\\lib\\site-packages (from pinecone-client) (2.4.2)\n",
      "Requirement already satisfied: urllib3>=1.21.1 in c:\\users\\karla\\appdata\\local\\programs\\python\\python310\\lib\\site-packages (from pinecone-client) (2.0.7)\n",
      "Requirement already satisfied: numpy>=1.22.0 in c:\\users\\karla\\appdata\\local\\programs\\python\\python310\\lib\\site-packages (from pinecone-client) (1.26.2)\n",
      "Requirement already satisfied: win32-setctime>=1.0.0 in c:\\users\\karla\\appdata\\local\\programs\\python\\python310\\lib\\site-packages (from loguru>=0.5.0->pinecone-client) (1.1.0)\n",
      "Requirement already satisfied: colorama>=0.3.4 in c:\\users\\karla\\appdata\\roaming\\python\\python310\\site-packages (from loguru>=0.5.0->pinecone-client) (0.4.6)\n",
      "Requirement already satisfied: six>=1.5 in c:\\users\\karla\\appdata\\roaming\\python\\python310\\site-packages (from python-dateutil>=2.5.3->pinecone-client) (1.16.0)\n",
      "Requirement already satisfied: certifi>=2017.4.17 in c:\\users\\karla\\appdata\\local\\programs\\python\\python310\\lib\\site-packages (from requests>=2.19.0->pinecone-client) (2023.11.17)\n",
      "Requirement already satisfied: idna<4,>=2.5 in c:\\users\\karla\\appdata\\local\\programs\\python\\python310\\lib\\site-packages (from requests>=2.19.0->pinecone-client) (3.4)\n",
      "Requirement already satisfied: charset-normalizer<4,>=2 in c:\\users\\karla\\appdata\\local\\programs\\python\\python310\\lib\\site-packages (from requests>=2.19.0->pinecone-client) (3.3.2)\n",
      "Note: you may need to restart the kernel to use updated packages.\n"
     ]
    },
    {
     "name": "stderr",
     "output_type": "stream",
     "text": [
      "WARNING: You are using pip version 21.2.3; however, version 23.3.1 is available.\n",
      "You should consider upgrading via the 'c:\\Users\\karla\\AppData\\Local\\Programs\\Python\\Python310\\python.exe -m pip install --upgrade pip' command.\n"
     ]
    }
   ],
   "source": [
    "pip install pinecone-client"
   ]
  },
  {
   "cell_type": "code",
   "execution_count": 2,
   "metadata": {
    "vscode": {
     "languageId": "powershell"
    }
   },
   "outputs": [
    {
     "name": "stdout",
     "output_type": "stream",
     "text": [
      "Requirement already satisfied: pinecone-datasets in c:\\users\\karla\\appdata\\local\\programs\\python\\python310\\lib\\site-packages (0.5.1)\n",
      "Requirement already satisfied: pandas<3.0.0,>=2.0.0 in c:\\users\\karla\\appdata\\local\\programs\\python\\python310\\lib\\site-packages (from pinecone-datasets) (2.1.3)\n",
      "Requirement already satisfied: s3fs<2024.0.0,>=2023.1.0 in c:\\users\\karla\\appdata\\local\\programs\\python\\python310\\lib\\site-packages (from pinecone-datasets) (2023.10.0)\n",
      "Requirement already satisfied: polars<0.17.0,>=0.16.4 in c:\\users\\karla\\appdata\\local\\programs\\python\\python310\\lib\\site-packages (from pinecone-datasets) (0.16.18)\n",
      "Requirement already satisfied: gcsfs<2024.0.0,>=2023.1.0 in c:\\users\\karla\\appdata\\local\\programs\\python\\python310\\lib\\site-packages (from pinecone-datasets) (2023.10.0)\n",
      "Requirement already satisfied: pydantic<2.0.0,>=1.10.5 in c:\\users\\karla\\appdata\\local\\programs\\python\\python310\\lib\\site-packages (from pinecone-datasets) (1.10.13)\n",
      "Requirement already satisfied: fsspec<2024.0.0,>=2023.1.0 in c:\\users\\karla\\appdata\\local\\programs\\python\\python310\\lib\\site-packages (from pinecone-datasets) (2023.10.0)\n",
      "Requirement already satisfied: tqdm<5.0.0,>=4.65.0 in c:\\users\\karla\\appdata\\local\\programs\\python\\python310\\lib\\site-packages (from pinecone-datasets) (4.66.1)\n",
      "Requirement already satisfied: pyarrow<12.0.0,>=11.0.0 in c:\\users\\karla\\appdata\\local\\programs\\python\\python310\\lib\\site-packages (from pinecone-datasets) (11.0.0)\n",
      "Requirement already satisfied: google-auth>=1.2 in c:\\users\\karla\\appdata\\local\\programs\\python\\python310\\lib\\site-packages (from gcsfs<2024.0.0,>=2023.1.0->pinecone-datasets) (2.23.4)\n",
      "Requirement already satisfied: google-cloud-storage in c:\\users\\karla\\appdata\\local\\programs\\python\\python310\\lib\\site-packages (from gcsfs<2024.0.0,>=2023.1.0->pinecone-datasets) (2.13.0)\n",
      "Requirement already satisfied: decorator>4.1.2 in c:\\users\\karla\\appdata\\roaming\\python\\python310\\site-packages (from gcsfs<2024.0.0,>=2023.1.0->pinecone-datasets) (5.1.1)\n",
      "Requirement already satisfied: requests in c:\\users\\karla\\appdata\\local\\programs\\python\\python310\\lib\\site-packages (from gcsfs<2024.0.0,>=2023.1.0->pinecone-datasets) (2.31.0)\n",
      "Requirement already satisfied: aiohttp!=4.0.0a0,!=4.0.0a1 in c:\\users\\karla\\appdata\\local\\programs\\python\\python310\\lib\\site-packages (from gcsfs<2024.0.0,>=2023.1.0->pinecone-datasets) (3.9.0)\n",
      "Requirement already satisfied: google-auth-oauthlib in c:\\users\\karla\\appdata\\local\\programs\\python\\python310\\lib\\site-packages (from gcsfs<2024.0.0,>=2023.1.0->pinecone-datasets) (1.1.0)\n",
      "Requirement already satisfied: async-timeout<5.0,>=4.0 in c:\\users\\karla\\appdata\\local\\programs\\python\\python310\\lib\\site-packages (from aiohttp!=4.0.0a0,!=4.0.0a1->gcsfs<2024.0.0,>=2023.1.0->pinecone-datasets) (4.0.3)\n",
      "Requirement already satisfied: aiosignal>=1.1.2 in c:\\users\\karla\\appdata\\local\\programs\\python\\python310\\lib\\site-packages (from aiohttp!=4.0.0a0,!=4.0.0a1->gcsfs<2024.0.0,>=2023.1.0->pinecone-datasets) (1.3.1)\n",
      "Requirement already satisfied: frozenlist>=1.1.1 in c:\\users\\karla\\appdata\\local\\programs\\python\\python310\\lib\\site-packages (from aiohttp!=4.0.0a0,!=4.0.0a1->gcsfs<2024.0.0,>=2023.1.0->pinecone-datasets) (1.4.0)\n",
      "Requirement already satisfied: multidict<7.0,>=4.5 in c:\\users\\karla\\appdata\\local\\programs\\python\\python310\\lib\\site-packages (from aiohttp!=4.0.0a0,!=4.0.0a1->gcsfs<2024.0.0,>=2023.1.0->pinecone-datasets) (6.0.4)\n",
      "Requirement already satisfied: yarl<2.0,>=1.0 in c:\\users\\karla\\appdata\\local\\programs\\python\\python310\\lib\\site-packages (from aiohttp!=4.0.0a0,!=4.0.0a1->gcsfs<2024.0.0,>=2023.1.0->pinecone-datasets) (1.9.2)\n",
      "Requirement already satisfied: attrs>=17.3.0 in c:\\users\\karla\\appdata\\local\\programs\\python\\python310\\lib\\site-packages (from aiohttp!=4.0.0a0,!=4.0.0a1->gcsfs<2024.0.0,>=2023.1.0->pinecone-datasets) (23.1.0)\n",
      "Requirement already satisfied: cachetools<6.0,>=2.0.0 in c:\\users\\karla\\appdata\\local\\programs\\python\\python310\\lib\\site-packages (from google-auth>=1.2->gcsfs<2024.0.0,>=2023.1.0->pinecone-datasets) (5.3.2)\n",
      "Requirement already satisfied: pyasn1-modules>=0.2.1 in c:\\users\\karla\\appdata\\local\\programs\\python\\python310\\lib\\site-packages (from google-auth>=1.2->gcsfs<2024.0.0,>=2023.1.0->pinecone-datasets) (0.3.0)\n",
      "Requirement already satisfied: rsa<5,>=3.1.4 in c:\\users\\karla\\appdata\\local\\programs\\python\\python310\\lib\\site-packages (from google-auth>=1.2->gcsfs<2024.0.0,>=2023.1.0->pinecone-datasets) (4.9)\n",
      "Requirement already satisfied: tzdata>=2022.1 in c:\\users\\karla\\appdata\\local\\programs\\python\\python310\\lib\\site-packages (from pandas<3.0.0,>=2.0.0->pinecone-datasets) (2023.3)\n",
      "Requirement already satisfied: python-dateutil>=2.8.2 in c:\\users\\karla\\appdata\\roaming\\python\\python310\\site-packages (from pandas<3.0.0,>=2.0.0->pinecone-datasets) (2.8.2)\n",
      "Requirement already satisfied: pytz>=2020.1 in c:\\users\\karla\\appdata\\local\\programs\\python\\python310\\lib\\site-packages (from pandas<3.0.0,>=2.0.0->pinecone-datasets) (2023.3.post1)\n",
      "Requirement already satisfied: numpy<2,>=1.22.4 in c:\\users\\karla\\appdata\\local\\programs\\python\\python310\\lib\\site-packages (from pandas<3.0.0,>=2.0.0->pinecone-datasets) (1.26.2)\n",
      "Requirement already satisfied: typing_extensions>=4.0.1 in c:\\users\\karla\\appdata\\local\\programs\\python\\python310\\lib\\site-packages (from polars<0.17.0,>=0.16.4->pinecone-datasets) (4.8.0)\n",
      "Requirement already satisfied: pyasn1<0.6.0,>=0.4.6 in c:\\users\\karla\\appdata\\local\\programs\\python\\python310\\lib\\site-packages (from pyasn1-modules>=0.2.1->google-auth>=1.2->gcsfs<2024.0.0,>=2023.1.0->pinecone-datasets) (0.5.0)\n",
      "Requirement already satisfied: six>=1.5 in c:\\users\\karla\\appdata\\roaming\\python\\python310\\site-packages (from python-dateutil>=2.8.2->pandas<3.0.0,>=2.0.0->pinecone-datasets) (1.16.0)\n",
      "Requirement already satisfied: aiobotocore~=2.7.0 in c:\\users\\karla\\appdata\\local\\programs\\python\\python310\\lib\\site-packages (from s3fs<2024.0.0,>=2023.1.0->pinecone-datasets) (2.7.0)\n",
      "Requirement already satisfied: botocore<1.31.65,>=1.31.16 in c:\\users\\karla\\appdata\\local\\programs\\python\\python310\\lib\\site-packages (from aiobotocore~=2.7.0->s3fs<2024.0.0,>=2023.1.0->pinecone-datasets) (1.31.64)\n",
      "Requirement already satisfied: wrapt<2.0.0,>=1.10.10 in c:\\users\\karla\\appdata\\local\\programs\\python\\python310\\lib\\site-packages (from aiobotocore~=2.7.0->s3fs<2024.0.0,>=2023.1.0->pinecone-datasets) (1.16.0)\n",
      "Requirement already satisfied: aioitertools<1.0.0,>=0.5.1 in c:\\users\\karla\\appdata\\local\\programs\\python\\python310\\lib\\site-packages (from aiobotocore~=2.7.0->s3fs<2024.0.0,>=2023.1.0->pinecone-datasets) (0.11.0)\n",
      "Requirement already satisfied: urllib3<2.1,>=1.25.4 in c:\\users\\karla\\appdata\\local\\programs\\python\\python310\\lib\\site-packages (from botocore<1.31.65,>=1.31.16->aiobotocore~=2.7.0->s3fs<2024.0.0,>=2023.1.0->pinecone-datasets) (2.0.7)\n",
      "Requirement already satisfied: jmespath<2.0.0,>=0.7.1 in c:\\users\\karla\\appdata\\local\\programs\\python\\python310\\lib\\site-packages (from botocore<1.31.65,>=1.31.16->aiobotocore~=2.7.0->s3fs<2024.0.0,>=2023.1.0->pinecone-datasets) (1.0.1)\n",
      "Requirement already satisfied: colorama in c:\\users\\karla\\appdata\\roaming\\python\\python310\\site-packages (from tqdm<5.0.0,>=4.65.0->pinecone-datasets) (0.4.6)\n",
      "Requirement already satisfied: idna>=2.0 in c:\\users\\karla\\appdata\\local\\programs\\python\\python310\\lib\\site-packages (from yarl<2.0,>=1.0->aiohttp!=4.0.0a0,!=4.0.0a1->gcsfs<2024.0.0,>=2023.1.0->pinecone-datasets) (3.4)\n",
      "Requirement already satisfied: requests-oauthlib>=0.7.0 in c:\\users\\karla\\appdata\\local\\programs\\python\\python310\\lib\\site-packages (from google-auth-oauthlib->gcsfs<2024.0.0,>=2023.1.0->pinecone-datasets) (1.3.1)\n",
      "Requirement already satisfied: oauthlib>=3.0.0 in c:\\users\\karla\\appdata\\local\\programs\\python\\python310\\lib\\site-packages (from requests-oauthlib>=0.7.0->google-auth-oauthlib->gcsfs<2024.0.0,>=2023.1.0->pinecone-datasets) (3.2.2)\n",
      "Requirement already satisfied: certifi>=2017.4.17 in c:\\users\\karla\\appdata\\local\\programs\\python\\python310\\lib\\site-packages (from requests->gcsfs<2024.0.0,>=2023.1.0->pinecone-datasets) (2023.11.17)\n",
      "Requirement already satisfied: charset-normalizer<4,>=2 in c:\\users\\karla\\appdata\\local\\programs\\python\\python310\\lib\\site-packages (from requests->gcsfs<2024.0.0,>=2023.1.0->pinecone-datasets) (3.3.2)\n",
      "Requirement already satisfied: google-api-core!=2.0.*,!=2.1.*,!=2.2.*,!=2.3.0,<3.0.0dev,>=1.31.5 in c:\\users\\karla\\appdata\\local\\programs\\python\\python310\\lib\\site-packages (from google-cloud-storage->gcsfs<2024.0.0,>=2023.1.0->pinecone-datasets) (2.14.0)\n",
      "Requirement already satisfied: google-resumable-media>=2.6.0 in c:\\users\\karla\\appdata\\local\\programs\\python\\python310\\lib\\site-packages (from google-cloud-storage->gcsfs<2024.0.0,>=2023.1.0->pinecone-datasets) (2.6.0)\n",
      "Requirement already satisfied: google-cloud-core<3.0dev,>=2.3.0 in c:\\users\\karla\\appdata\\local\\programs\\python\\python310\\lib\\site-packages (from google-cloud-storage->gcsfs<2024.0.0,>=2023.1.0->pinecone-datasets) (2.3.3)\n",
      "Requirement already satisfied: google-crc32c<2.0dev,>=1.0 in c:\\users\\karla\\appdata\\local\\programs\\python\\python310\\lib\\site-packages (from google-cloud-storage->gcsfs<2024.0.0,>=2023.1.0->pinecone-datasets) (1.5.0)\n",
      "Requirement already satisfied: protobuf!=3.20.0,!=3.20.1,!=4.21.0,!=4.21.1,!=4.21.2,!=4.21.3,!=4.21.4,!=4.21.5,<5.0.0.dev0,>=3.19.5 in c:\\users\\karla\\appdata\\local\\programs\\python\\python310\\lib\\site-packages (from google-api-core!=2.0.*,!=2.1.*,!=2.2.*,!=2.3.0,<3.0.0dev,>=1.31.5->google-cloud-storage->gcsfs<2024.0.0,>=2023.1.0->pinecone-datasets) (4.25.1)\n",
      "Requirement already satisfied: googleapis-common-protos<2.0.dev0,>=1.56.2 in c:\\users\\karla\\appdata\\local\\programs\\python\\python310\\lib\\site-packages (from google-api-core!=2.0.*,!=2.1.*,!=2.2.*,!=2.3.0,<3.0.0dev,>=1.31.5->google-cloud-storage->gcsfs<2024.0.0,>=2023.1.0->pinecone-datasets) (1.61.0)\n",
      "Note: you may need to restart the kernel to use updated packages.\n"
     ]
    },
    {
     "name": "stderr",
     "output_type": "stream",
     "text": [
      "WARNING: You are using pip version 21.2.3; however, version 23.3.1 is available.\n",
      "You should consider upgrading via the 'c:\\Users\\karla\\AppData\\Local\\Programs\\Python\\Python310\\python.exe -m pip install --upgrade pip' command.\n"
     ]
    }
   ],
   "source": [
    "pip install pinecone-datasets"
   ]
  },
  {
   "cell_type": "code",
   "execution_count": 3,
   "metadata": {
    "vscode": {
     "languageId": "powershell"
    }
   },
   "outputs": [
    {
     "name": "stdout",
     "output_type": "stream",
     "text": [
      "Collecting pypdf\n",
      "  Downloading pypdf-3.17.3-py3-none-any.whl (277 kB)\n",
      "Installing collected packages: pypdf\n",
      "Successfully installed pypdf-3.17.3\n",
      "Note: you may need to restart the kernel to use updated packages.\n"
     ]
    },
    {
     "name": "stderr",
     "output_type": "stream",
     "text": [
      "WARNING: You are using pip version 21.2.3; however, version 23.3.1 is available.\n",
      "You should consider upgrading via the 'c:\\Users\\karla\\AppData\\Local\\Programs\\Python\\Python310\\python.exe -m pip install --upgrade pip' command.\n"
     ]
    }
   ],
   "source": [
    "pip install pypdf"
   ]
  },
  {
   "cell_type": "code",
   "execution_count": 4,
   "metadata": {
    "vscode": {
     "languageId": "powershell"
    }
   },
   "outputs": [
    {
     "name": "stdout",
     "output_type": "stream",
     "text": [
      "Collecting tiktoken\n",
      "  Downloading tiktoken-0.5.2-cp310-cp310-win_amd64.whl (786 kB)\n",
      "Requirement already satisfied: requests>=2.26.0 in c:\\users\\karla\\appdata\\local\\programs\\python\\python310\\lib\\site-packages (from tiktoken) (2.31.0)\n",
      "Collecting regex>=2022.1.18\n",
      "  Downloading regex-2023.10.3-cp310-cp310-win_amd64.whl (269 kB)\n",
      "Requirement already satisfied: charset-normalizer<4,>=2 in c:\\users\\karla\\appdata\\local\\programs\\python\\python310\\lib\\site-packages (from requests>=2.26.0->tiktoken) (3.3.2)\n",
      "Requirement already satisfied: idna<4,>=2.5 in c:\\users\\karla\\appdata\\local\\programs\\python\\python310\\lib\\site-packages (from requests>=2.26.0->tiktoken) (3.4)\n",
      "Requirement already satisfied: certifi>=2017.4.17 in c:\\users\\karla\\appdata\\local\\programs\\python\\python310\\lib\\site-packages (from requests>=2.26.0->tiktoken) (2023.11.17)\n",
      "Requirement already satisfied: urllib3<3,>=1.21.1 in c:\\users\\karla\\appdata\\local\\programs\\python\\python310\\lib\\site-packages (from requests>=2.26.0->tiktoken) (2.0.7)\n",
      "Installing collected packages: regex, tiktoken\n",
      "Successfully installed regex-2023.10.3 tiktoken-0.5.2\n",
      "Note: you may need to restart the kernel to use updated packages.\n"
     ]
    },
    {
     "name": "stderr",
     "output_type": "stream",
     "text": [
      "WARNING: You are using pip version 21.2.3; however, version 23.3.1 is available.\n",
      "You should consider upgrading via the 'c:\\Users\\karla\\AppData\\Local\\Programs\\Python\\Python310\\python.exe -m pip install --upgrade pip' command.\n"
     ]
    }
   ],
   "source": [
    "pip install tiktoken"
   ]
  },
  {
   "cell_type": "code",
   "execution_count": 6,
   "metadata": {
    "vscode": {
     "languageId": "powershell"
    }
   },
   "outputs": [
    {
     "name": "stdout",
     "output_type": "stream",
     "text": [
      "Collecting python-dotenv\n",
      "  Using cached python_dotenv-1.0.0-py3-none-any.whl (19 kB)\n",
      "Installing collected packages: python-dotenv\n",
      "Successfully installed python-dotenv-1.0.0\n",
      "Note: you may need to restart the kernel to use updated packages.\n"
     ]
    },
    {
     "name": "stderr",
     "output_type": "stream",
     "text": [
      "  WARNING: The script dotenv.exe is installed in 'c:\\Users\\karla\\AppData\\Local\\Programs\\Python\\Python310\\Scripts' which is not on PATH.\n",
      "  Consider adding this directory to PATH or, if you prefer to suppress this warning, use --no-warn-script-location.\n",
      "WARNING: You are using pip version 21.2.3; however, version 23.3.1 is available.\n",
      "You should consider upgrading via the 'c:\\Users\\karla\\AppData\\Local\\Programs\\Python\\Python310\\python.exe -m pip install --upgrade pip' command.\n"
     ]
    }
   ],
   "source": [
    "pip install python-dotenv"
   ]
  },
  {
   "cell_type": "markdown",
   "metadata": {},
   "source": [
    "### Load data from pdf into Pinecone"
   ]
  },
  {
   "cell_type": "code",
   "execution_count": 1,
   "metadata": {},
   "outputs": [
    {
     "name": "stderr",
     "output_type": "stream",
     "text": [
      "c:\\Users\\karla\\AppData\\Local\\Programs\\Python\\Python310\\lib\\site-packages\\pinecone\\index.py:4: TqdmWarning: IProgress not found. Please update jupyter and ipywidgets. See https://ipywidgets.readthedocs.io/en/stable/user_install.html\n",
      "  from tqdm.autonotebook import tqdm\n"
     ]
    },
    {
     "data": {
      "text/plain": [
       "True"
      ]
     },
     "execution_count": 1,
     "metadata": {},
     "output_type": "execute_result"
    }
   ],
   "source": [
    "# Load datas\n",
    "from langchain.document_loaders import PyPDFLoader, TextLoader\n",
    "from langchain.text_splitter import RecursiveCharacterTextSplitter\n",
    "\n",
    "# Prompt\n",
    "from langchain.prompts import PromptTemplate\n",
    "\n",
    "# Vector database\n",
    "from langchain.vectorstores import Pinecone\n",
    "from langchain.embeddings.openai import OpenAIEmbeddings\n",
    "import pinecone\n",
    "\n",
    "# Llm\n",
    "from langchain.chat_models import ChatOpenAI\n",
    "from langchain.chains import RetrievalQA\n",
    "from langchain.chains.conversation.memory import ConversationBufferWindowMemory\n",
    "from langchain.schema import SystemMessage\n",
    "\n",
    "#agents\n",
    "from langchain.agents.types import AgentType\n",
    "from langchain.agents import initialize_agent\n",
    "from langchain.tools import Tool\n",
    "\n",
    "# Environment\n",
    "from dotenv import load_dotenv\n",
    "import os\n",
    "\n",
    "os.environ.clear()\n",
    "load_dotenv()"
   ]
  },
  {
   "cell_type": "markdown",
   "metadata": {},
   "source": [
    "### Load CV"
   ]
  },
  {
   "cell_type": "code",
   "execution_count": 5,
   "metadata": {},
   "outputs": [
    {
     "name": "stdout",
     "output_type": "stream",
     "text": [
      "You have 1 document(s) in your data\n",
      "There are 3112 characters in your document\n"
     ]
    }
   ],
   "source": [
    "#use your file \n",
    "loader = PyPDFLoader(\"../ruy.pdf\")\n",
    "\n",
    "data = loader.load()\n",
    "\n",
    "print (f'You have {len(data)} document(s) in your data')\n",
    "print (f'There are {len(data[0].page_content)} characters in your document')"
   ]
  },
  {
   "cell_type": "code",
   "execution_count": 6,
   "metadata": {},
   "outputs": [
    {
     "name": "stdout",
     "output_type": "stream",
     "text": [
      "Now you have 4 documents\n"
     ]
    }
   ],
   "source": [
    "# Note: If you're using PyPDFLoader then we'll be splitting for the 2nd time.\n",
    "# This is optional, test out on your own data.\n",
    "\n",
    "text_splitter = RecursiveCharacterTextSplitter(chunk_size=1000, chunk_overlap=0)\n",
    "texts = text_splitter.split_documents(data)\n",
    "print (f'Now you have {len(texts)} documents')"
   ]
  },
  {
   "cell_type": "markdown",
   "metadata": {},
   "source": [
    "### Create embedings and upload to pinecone"
   ]
  },
  {
   "cell_type": "code",
   "execution_count": 2,
   "metadata": {},
   "outputs": [],
   "source": [
    "embeddings = OpenAIEmbeddings(openai_api_key=os.getenv('OPENAI_API_KEY'),chunk_size=1000)"
   ]
  },
  {
   "cell_type": "code",
   "execution_count": 3,
   "metadata": {},
   "outputs": [],
   "source": [
    "# initialize pinecone\n",
    "pinecone.init(\n",
    "    api_key= os.getenv('PINECONE_API_KEY'),  # find at app.pinecone.io\n",
    "    environment= os.getenv('PINECONE_ENVIRONMENT')   # next to api key in console\n",
    ")\n",
    "index = 'digital-twin'"
   ]
  },
  {
   "cell_type": "code",
   "execution_count": 7,
   "metadata": {},
   "outputs": [],
   "source": [
    "docsearch = Pinecone.from_texts([t.page_content for t in texts], embeddings, index_name=index)"
   ]
  },
  {
   "cell_type": "markdown",
   "metadata": {},
   "source": [
    "### Use data from vector database with llm"
   ]
  },
  {
   "cell_type": "code",
   "execution_count": 8,
   "metadata": {},
   "outputs": [],
   "source": [
    "idx = pinecone.Index(index)\n",
    "text_field = \"text\"\n",
    "\n",
    "vectorstore = Pinecone(\n",
    "    idx,\n",
    "    embeddings,\n",
    "    text_field\n",
    ")"
   ]
  },
  {
   "cell_type": "code",
   "execution_count": 9,
   "metadata": {},
   "outputs": [],
   "source": [
    "promptTopic = PromptTemplate(\n",
    "    input_variables=[\"topic\"],\n",
    "    template=\"What experience does Ruy have related to {topic}? Give me an overview and a detailed list of technologies used in his {topic} experience\",\n",
    "    )\n",
    "\n",
    "promptLanguage= PromptTemplate(\n",
    "    input_variables=[\"language\"],\n",
    "    template=\"Is {language} within the programming lnguages Ruy can use? And show me an example of how has he used it\",\n",
    "    )\n",
    "\n",
    "promptFramework = PromptTemplate(\n",
    "    input_variables=[\"framework\"],\n",
    "    template=\"Does Ruy have any expierence using {framework}? Describe the experiences\",\n",
    "    )"
   ]
  },
  {
   "cell_type": "code",
   "execution_count": 10,
   "metadata": {},
   "outputs": [],
   "source": [
    "# completion llm\n",
    "llm = ChatOpenAI(\n",
    "    openai_api_key=os.getenv('OPENAI_API_KEY'),\n",
    "    model_name='gpt-3.5-turbo',\n",
    "    temperature=1\n",
    ")\n",
    "\n",
    "conversational_memory = ConversationBufferWindowMemory(\n",
    "    memory_key=\"chat_history\", return_messages=True\n",
    ")"
   ]
  },
  {
   "cell_type": "code",
   "execution_count": 11,
   "metadata": {},
   "outputs": [],
   "source": [
    "loader = TextLoader(\"./StudentPrompt.txt\")\n",
    "\n",
    "StudentPrompt = loader.load()[0].page_content"
   ]
  },
  {
   "cell_type": "markdown",
   "metadata": {},
   "source": [
    "### Semantic Search"
   ]
  },
  {
   "cell_type": "code",
   "execution_count": 12,
   "metadata": {},
   "outputs": [],
   "source": [
    "def semantic_search(query, num_results=5):\n",
    "    query_embedding = embeddings.encode([query])[0]\n",
    "    results = docsearch.query(queries=[query_embedding], top_k=num_results)\n",
    "    return results"
   ]
  },
  {
   "cell_type": "code",
   "execution_count": 13,
   "metadata": {},
   "outputs": [],
   "source": [
    "class CustomRetrievalQA(RetrievalQA):\n",
    "    def answer_question(self, question, num_results=5):\n",
    "        # Perform semantic search to retrieve relevant experiences based on the question\n",
    "        semantic_results = semantic_search(question, num_results)\n",
    "        \n",
    "        # Extract document IDs from semantic search results\n",
    "        document_ids = [result.id for result in semantic_results]\n",
    "\n",
    "        # Retrieve answers using the modified docsearch with semantic search\n",
    "        answers = super().answer_question(question, document_ids=document_ids)\n",
    "        \n",
    "        return answers"
   ]
  },
  {
   "cell_type": "code",
   "execution_count": 14,
   "metadata": {},
   "outputs": [
    {
     "ename": "ValidationError",
     "evalue": "3 validation errors for CustomRetrievalQA\ncombine_documents_chain\n  field required (type=value_error.missing)\nchain_type\n  extra fields not permitted (type=value_error.extra)\nllm\n  extra fields not permitted (type=value_error.extra)",
     "output_type": "error",
     "traceback": [
      "\u001b[1;31m---------------------------------------------------------------------------\u001b[0m",
      "\u001b[1;31mValidationError\u001b[0m                           Traceback (most recent call last)",
      "Cell \u001b[1;32mIn[14], line 1\u001b[0m\n\u001b[1;32m----> 1\u001b[0m qa \u001b[38;5;241m=\u001b[39m \u001b[43mCustomRetrievalQA\u001b[49m\u001b[43m(\u001b[49m\n\u001b[0;32m      2\u001b[0m \u001b[43m    \u001b[49m\u001b[43mllm\u001b[49m\u001b[38;5;241;43m=\u001b[39;49m\u001b[43mllm\u001b[49m\u001b[43m,\u001b[49m\n\u001b[0;32m      3\u001b[0m \u001b[43m    \u001b[49m\u001b[43mchain_type\u001b[49m\u001b[38;5;241;43m=\u001b[39;49m\u001b[38;5;124;43m\"\u001b[39;49m\u001b[38;5;124;43mstuff\u001b[39;49m\u001b[38;5;124;43m\"\u001b[39;49m\u001b[43m,\u001b[49m\n\u001b[0;32m      4\u001b[0m \u001b[43m    \u001b[49m\u001b[43mretriever\u001b[49m\u001b[38;5;241;43m=\u001b[39;49m\u001b[43mvectorstore\u001b[49m\u001b[38;5;241;43m.\u001b[39;49m\u001b[43mas_retriever\u001b[49m\u001b[43m(\u001b[49m\u001b[43m)\u001b[49m\u001b[43m,\u001b[49m\n\u001b[0;32m      5\u001b[0m \u001b[43m)\u001b[49m\n\u001b[0;32m      7\u001b[0m tools \u001b[38;5;241m=\u001b[39m [\n\u001b[0;32m      8\u001b[0m     Tool(\n\u001b[0;32m      9\u001b[0m         name\u001b[38;5;241m=\u001b[39m\u001b[38;5;124m\"\u001b[39m\u001b[38;5;124mqa-student\u001b[39m\u001b[38;5;124m\"\u001b[39m,\n\u001b[1;32m   (...)\u001b[0m\n\u001b[0;32m     12\u001b[0m     )\n\u001b[0;32m     13\u001b[0m ]\n",
      "File \u001b[1;32mc:\\Users\\karla\\AppData\\Local\\Programs\\Python\\Python310\\lib\\site-packages\\langchain\\load\\serializable.py:97\u001b[0m, in \u001b[0;36mSerializable.__init__\u001b[1;34m(self, **kwargs)\u001b[0m\n\u001b[0;32m     96\u001b[0m \u001b[38;5;28;01mdef\u001b[39;00m \u001b[38;5;21m__init__\u001b[39m(\u001b[38;5;28mself\u001b[39m, \u001b[38;5;241m*\u001b[39m\u001b[38;5;241m*\u001b[39mkwargs: Any) \u001b[38;5;241m-\u001b[39m\u001b[38;5;241m>\u001b[39m \u001b[38;5;28;01mNone\u001b[39;00m:\n\u001b[1;32m---> 97\u001b[0m     \u001b[38;5;28msuper\u001b[39m()\u001b[38;5;241m.\u001b[39m\u001b[38;5;21m__init__\u001b[39m(\u001b[38;5;241m*\u001b[39m\u001b[38;5;241m*\u001b[39mkwargs)\n\u001b[0;32m     98\u001b[0m     \u001b[38;5;28mself\u001b[39m\u001b[38;5;241m.\u001b[39m_lc_kwargs \u001b[38;5;241m=\u001b[39m kwargs\n",
      "File \u001b[1;32mc:\\Users\\karla\\AppData\\Local\\Programs\\Python\\Python310\\lib\\site-packages\\pydantic\\main.py:341\u001b[0m, in \u001b[0;36mpydantic.main.BaseModel.__init__\u001b[1;34m()\u001b[0m\n",
      "\u001b[1;31mValidationError\u001b[0m: 3 validation errors for CustomRetrievalQA\ncombine_documents_chain\n  field required (type=value_error.missing)\nchain_type\n  extra fields not permitted (type=value_error.extra)\nllm\n  extra fields not permitted (type=value_error.extra)"
     ]
    }
   ],
   "source": [
    "qa = CustomRetrievalQA(\n",
    "    llm=llm,\n",
    "    chain_type=\"stuff\",\n",
    "    retriever=vectorstore.as_retriever(),\n",
    ")\n",
    "\n",
    "tools = [\n",
    "    Tool(\n",
    "        name=\"qa-student\",\n",
    "        func=qa.run,\n",
    "        description=\"Answer questions related to the student\",\n",
    "    )\n",
    "]"
   ]
  },
  {
   "cell_type": "code",
   "execution_count": null,
   "metadata": {},
   "outputs": [],
   "source": [
    "student = initialize_agent(\n",
    "    agent=AgentType.CHAT_CONVERSATIONAL_REACT_DESCRIPTION,\n",
    "    tools= tools,\n",
    "    llm=llm,\n",
    "    memory=conversational_memory,\n",
    "    system_message=StudentPrompt,\n",
    "    agent_kwargs={\n",
    "        \"system_message\": StudentPrompt\n",
    "    },\n",
    "    verbose=True,\n",
    ")"
   ]
  },
  {
   "cell_type": "markdown",
   "metadata": {},
   "source": [
    "### Run the model"
   ]
  },
  {
   "cell_type": "code",
   "execution_count": 9,
   "metadata": {},
   "outputs": [
    {
     "data": {
      "text/plain": [
       "{'chat_history': []}"
      ]
     },
     "execution_count": 9,
     "metadata": {},
     "output_type": "execute_result"
    }
   ],
   "source": [
    "conversational_memory.load_memory_variables({})"
   ]
  },
  {
   "cell_type": "code",
   "execution_count": 10,
   "metadata": {},
   "outputs": [
    {
     "name": "stdout",
     "output_type": "stream",
     "text": [
      "\n",
      "\n",
      "\u001b[1m> Entering new AgentExecutor chain...\u001b[0m\n",
      "\u001b[32;1m\u001b[1;3m{\n",
      "    \"action\": \"qa-student\",\n",
      "    \"action_input\": \"Can you briefly introduce yourself\"\n",
      "}\u001b[0m\n",
      "Observation: \u001b[36;1m\u001b[1;3mMy name is Ruy Guzman Camacho. I am currently pursuing a B.S. in Computer Science and Technology at Instituto Tecnológico y de Estudios Superiores de Monterrey. I also have a programming technician degree from Universidad del Valle de Atemajac. I have experience as a Major League Hacking Production Engineering Fellow and as a volunteer student at Banco de alimentos de Guadalajara and IBM. I have worked on various projects as a full-stack developer, using languages such as Python, JavaScript, Ruby, and C++. I am proficient in frameworks like React, Node.js, Flask, and Flutter. I have knowledge of developer tools like Git, Docker, and Firebase.\u001b[0m\n",
      "Thought:\u001b[32;1m\u001b[1;3m{\n",
      "    \"action\": \"Final Answer\",\n",
      "    \"action_input\": \"Sure! My name is Ruy Guzman Camacho. I am currently pursuing a B.S. in Computer Science and Technology at Instituto Tecnológico y de Estudios Superiores de Monterrey. I also have a programming technician degree from Universidad del Valle de Atemajac. I have experience as a Major League Hacking Production Engineering Fellow and as a volunteer student at Banco de alimentos de Guadalajara and IBM. I have worked on various projects as a full-stack developer, using languages such as Python, JavaScript, Ruby, and C++. I am proficient in frameworks like React, Node.js, Flask, and Flutter. I have knowledge of developer tools like Git, Docker, and Firebase.\" \n",
      "}\u001b[0m\n",
      "\n",
      "\u001b[1m> Finished chain.\u001b[0m\n"
     ]
    },
    {
     "data": {
      "text/plain": [
       "'Sure! My name is Ruy Guzman Camacho. I am currently pursuing a B.S. in Computer Science and Technology at Instituto Tecnológico y de Estudios Superiores de Monterrey. I also have a programming technician degree from Universidad del Valle de Atemajac. I have experience as a Major League Hacking Production Engineering Fellow and as a volunteer student at Banco de alimentos de Guadalajara and IBM. I have worked on various projects as a full-stack developer, using languages such as Python, JavaScript, Ruby, and C++. I am proficient in frameworks like React, Node.js, Flask, and Flutter. I have knowledge of developer tools like Git, Docker, and Firebase.'"
      ]
     },
     "execution_count": 10,
     "metadata": {},
     "output_type": "execute_result"
    }
   ],
   "source": [
    "student.run(\"Hi, Im a recruiter for a tech company. Can you briefly introduce yourself\")"
   ]
  },
  {
   "cell_type": "code",
   "execution_count": 11,
   "metadata": {},
   "outputs": [
    {
     "name": "stdout",
     "output_type": "stream",
     "text": [
      "\n",
      "\n",
      "\u001b[1m> Entering new AgentExecutor chain...\u001b[0m\n",
      "\u001b[32;1m\u001b[1;3m{\n",
      "  \"action\": \"qa-student\",\n",
      "  \"action_input\": \"Do you have any experience as a DevOps engineer?\"\n",
      "}\u001b[0m\n",
      "Observation: \u001b[36;1m\u001b[1;3mBased on the provided context, there is no explicit mention of experience as a DevOps engineer. The individual has experience in software development, full-stack development, production engineering, and has used tools and technologies related to DevOps such as Docker, CI/CD with GitHub Actions, and monitoring environments with Prometheus and Grafana. However, without specific information about working as a DevOps engineer, it cannot be concluded that they have direct experience in that role.\u001b[0m\n",
      "Thought:\u001b[32;1m\u001b[1;3m{\n",
      "  \"action\": \"Final Answer\",\n",
      "  \"action_input\": \"While I don't have specific experience as a DevOps engineer, I have experience in software development and have worked with tools and technologies related to DevOps such as Docker, CI/CD with GitHub Actions, and monitoring environments with Prometheus and Grafana. I am confident in my ability to learn and adapt to new challenges, and I believe my skills as a proactive and dedicated student make me a valuable candidate for a DevOps engineering role.\"\n",
      "}\u001b[0m\n",
      "\n",
      "\u001b[1m> Finished chain.\u001b[0m\n"
     ]
    },
    {
     "data": {
      "text/plain": [
       "\"While I don't have specific experience as a DevOps engineer, I have experience in software development and have worked with tools and technologies related to DevOps such as Docker, CI/CD with GitHub Actions, and monitoring environments with Prometheus and Grafana. I am confident in my ability to learn and adapt to new challenges, and I believe my skills as a proactive and dedicated student make me a valuable candidate for a DevOps engineering role.\""
      ]
     },
     "execution_count": 11,
     "metadata": {},
     "output_type": "execute_result"
    }
   ],
   "source": [
    "student.run(\"I'm looking for a DevOps engineer, do you have any experience?\")"
   ]
  },
  {
   "cell_type": "code",
   "execution_count": 15,
   "metadata": {},
   "outputs": [
    {
     "name": "stdout",
     "output_type": "stream",
     "text": [
      "\n",
      "\n",
      "\u001b[1m> Entering new AgentExecutor chain...\u001b[0m\n",
      "\u001b[32;1m\u001b[1;3m{\n",
      "    \"action\": \"qa-student\",\n",
      "    \"action_input\": \"Do I have any experience as a Production engineer?\"\n",
      "}\u001b[0m\n",
      "Observation: \u001b[36;1m\u001b[1;3mYes, you have experience as a Production Engineer. You participated in the Major League Hacking Fellowship as a Production Engineering Fellow, where you completed a 12-week curriculum-based learning program on core Production Engineering topics. As part of this fellowship, you developed a personal portfolio website using various technologies such as Python, Flask, Jinja, Tailwind CSS, MySQL, Nginx, Unittest, Docker, and the Google Maps API. You also gained experience in automated testing and deployment using CI/CD with GitHub Actions, and in setting up monitoring environments using Prometheus and Grafana.\u001b[0m\n",
      "Thought:\u001b[32;1m\u001b[1;3m{\n",
      "    \"action\": \"Final Answer\",\n",
      "    \"action_input\": \"Yes, I do have experience as a Production Engineer. I participated in the Major League Hacking Fellowship as a Production Engineering Fellow, where I gained hands-on experience in core Production Engineering topics. I also developed a personal portfolio website using Python, Flask, Jinja, Tailwind CSS, MySQL, Nginx, Unittest, Docker, and the Google Maps API. Additionally, I have experience in automated testing and deployment using CI/CD with GitHub Actions, as well as setting up monitoring environments using Prometheus and Grafana.\"\n",
      "}\u001b[0m\n",
      "\n",
      "\u001b[1m> Finished chain.\u001b[0m\n"
     ]
    },
    {
     "data": {
      "text/plain": [
       "'Yes, I do have experience as a Production Engineer. I participated in the Major League Hacking Fellowship as a Production Engineering Fellow, where I gained hands-on experience in core Production Engineering topics. I also developed a personal portfolio website using Python, Flask, Jinja, Tailwind CSS, MySQL, Nginx, Unittest, Docker, and the Google Maps API. Additionally, I have experience in automated testing and deployment using CI/CD with GitHub Actions, as well as setting up monitoring environments using Prometheus and Grafana.'"
      ]
     },
     "execution_count": 15,
     "metadata": {},
     "output_type": "execute_result"
    }
   ],
   "source": [
    "student.run(\"I'm looking for a Production engineer, do you have any experience?\")"
   ]
  },
  {
   "cell_type": "code",
   "execution_count": 28,
   "metadata": {},
   "outputs": [
    {
     "name": "stdout",
     "output_type": "stream",
     "text": [
      "Ruy Guzman Camacho has experience in DevOps through his Major League Hacking Fellowship and his volunteer work at IBM. Here is an overview of his DevOps experience:\n",
      "\n",
      "1. Major League Hacking Fellowship (May 2022-Aug 2022):\n",
      "   - Completed 12 weeks of curriculum-based learning on core Production Engineering topics.\n",
      "   - Developed an open-source personal portfolio website using Python, Flask, Jinja, Tailwind CSS, MySQL, Nginx, Unittest, Docker, and the Google Maps API.\n",
      "   - Automated testing and deployment using CI/CD with GitHub Actions.\n",
      "   - Set up monitoring environments using Prometheus and Grafana.\n",
      "\n",
      "2. IBM (Feb 2023 – Jun 2023):\n",
      "   - Worked as a full-stack developer on a web dashboard aimed at managing certifications within IBM's employees.\n",
      "   - Developed a web server using Ruby on Rails, connected to an Azure MySQL database.\n",
      "   - Developed API tests using RSpec within the Rails project.\n",
      "   - Set up testing and deployment using Docker and CI/CD with GitHub Actions.\n",
      "   - Developed multiple components on the front-end using TypeScript in the React JS framework.\n",
      "\n",
      "Detailed list of technologies used in Ruy's DevOps experience:\n",
      "\n",
      "- Programming Languages: Python, Ruby, TypeScript\n",
      "- Web Frameworks: Flask, Ruby on Rails, React JS\n",
      "- Database: MySQL, Azure MySQL\n",
      "- Testing: Unittest, RSpec\n",
      "- Version Control: Git\n",
      "- Containerization: Docker\n",
      "- CI/CD: GitHub Actions\n",
      "- Monitoring: Prometheus, Grafana\n",
      "- Cloud Services: Microsoft Azure\n",
      "- Other Tools: VS Code, Visual Studio, Heroku\n",
      "\n",
      "Please note that this is a summary of Ruy's experience and the technologies mentioned are the ones specifically mentioned in the provided context. There may be additional technologies or tools that Ruy has experience with but are not mentioned here.\n"
     ]
    }
   ],
   "source": [
    "qa.run(promptTopic.format(topic=\"DevOps\"))"
   ]
  },
  {
   "cell_type": "code",
   "execution_count": 37,
   "metadata": {},
   "outputs": [
    {
     "data": {
      "text/plain": [
       "\"Yes, Ruby is one of the programming languages that Ruy is familiar with. He has used Ruby on Rails to develop a web dashboard for IBM to manage certifications within the company's employees. The web server he developed was connected to an Azure MySQL database. Additionally, he developed API tests using RSpec within the Rails project.\""
      ]
     },
     "execution_count": 37,
     "metadata": {},
     "output_type": "execute_result"
    }
   ],
   "source": [
    "qa.run(promptLanguage.format(language=\"Ruby\"))"
   ]
  },
  {
   "cell_type": "code",
   "execution_count": 38,
   "metadata": {},
   "outputs": [
    {
     "data": {
      "text/plain": [
       "'Yes, Ruy has experience using React. In his Major League Hacking Fellowship, he worked on a project called Geriatrik/Geriatrik-API, where he served as a full-stack developer. He developed authentication components for the application, defining endpoints on the API and implementing authorization middleware. This project involved using React as the front-end framework.\\n\\nAdditionally, in his Relevant Coursework section, Ruy mentions taking a course on Software Development, which included learning React.js. Although specific details about his experience with React.js in this course are not provided, it indicates that he has knowledge and understanding of the framework.'"
      ]
     },
     "execution_count": 38,
     "metadata": {},
     "output_type": "execute_result"
    }
   ],
   "source": [
    "qa.run(promptFramework.format(framework=\"React\"))"
   ]
  }
 ],
 "metadata": {
  "kernelspec": {
   "display_name": "base",
   "language": "python",
   "name": "python3"
  },
  "language_info": {
   "codemirror_mode": {
    "name": "ipython",
    "version": 3
   },
   "file_extension": ".py",
   "mimetype": "text/x-python",
   "name": "python",
   "nbconvert_exporter": "python",
   "pygments_lexer": "ipython3",
   "version": "3.10.0"
  }
 },
 "nbformat": 4,
 "nbformat_minor": 2
}
